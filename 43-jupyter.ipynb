{
 "cells": [
  {
   "cell_type": "code",
   "execution_count": 1,
   "metadata": {},
   "outputs": [],
   "source": [
    "multiplicationTable = [[x * y for y in range(10)] for x in range(10)]"
   ]
  },
  {
   "cell_type": "code",
   "execution_count": 4,
   "metadata": {},
   "outputs": [
    {
     "data": {
      "text/plain": [
       "[[0, 0, 0, 0, 0, 0, 0, 0, 0, 0],\n",
       " [0, 1, 2, 3, 4, 5, 6, 7, 8, 9],\n",
       " [0, 2, 4, 6, 8, 10, 12, 14, 16, 18],\n",
       " [0, 3, 6, 9, 12, 15, 18, 21, 24, 27],\n",
       " [0, 4, 8, 12, 16, 20, 24, 28, 32, 36],\n",
       " [0, 5, 10, 15, 20, 25, 30, 35, 40, 45],\n",
       " [0, 6, 12, 18, 24, 30, 36, 42, 48, 54],\n",
       " [0, 7, 14, 21, 28, 35, 42, 49, 56, 63],\n",
       " [0, 8, 16, 24, 32, 40, 48, 56, 64, 72],\n",
       " [0, 9, 18, 27, 36, 45, 54, 63, 72, 81]]"
      ]
     },
     "execution_count": 4,
     "metadata": {},
     "output_type": "execute_result"
    }
   ],
   "source": [
    "multiplicationTable"
   ]
  },
  {
   "cell_type": "code",
   "execution_count": 8,
   "metadata": {},
   "outputs": [
    {
     "name": "stdout",
     "output_type": "stream",
     "text": [
      "{'0': {'0': '0', '1': '0', '2': '0', '3': '0', '4': '0', '5': '0', '6': '0', '7': '0', '8': '0', '9': '0'}, '1': {'0': '0', '1': '1', '2': '2', '3': '3', '4': '4', '5': '5', '6': '6', '7': '7', '8': '8', '9': '9'}, '2': {'0': '0', '1': '2', '2': '4', '3': '6', '4': '8', '5': '10', '6': '12', '7': '14', '8': '16', '9': '18'}, '3': {'0': '0', '1': '3', '2': '6', '3': '9', '4': '12', '5': '15', '6': '18', '7': '21', '8': '24', '9': '27'}, '4': {'0': '0', '1': '4', '2': '8', '3': '12', '4': '16', '5': '20', '6': '24', '7': '28', '8': '32', '9': '36'}, '5': {'0': '0', '1': '5', '2': '10', '3': '15', '4': '20', '5': '25', '6': '30', '7': '35', '8': '40', '9': '45'}, '6': {'0': '0', '1': '6', '2': '12', '3': '18', '4': '24', '5': '30', '6': '36', '7': '42', '8': '48', '9': '54'}, '7': {'0': '0', '1': '7', '2': '14', '3': '21', '4': '28', '5': '35', '6': '42', '7': '49', '8': '56', '9': '63'}, '8': {'0': '0', '1': '8', '2': '16', '3': '24', '4': '32', '5': '40', '6': '48', '7': '56', '8': '64', '9': '72'}, '9': {'0': '0', '1': '9', '2': '18', '3': '27', '4': '36', '5': '45', '6': '54', '7': '63', '8': '72', '9': '81'}}\n"
     ]
    }
   ],
   "source": [
    "hashMultTable = {}\n",
    "for x in range(10):\n",
    "    hashMultTable[str(x)] = {}\n",
    "    for y in range(10):\n",
    "        hashMultTable[str(x)][str(y)] = str(x * y)\n",
    "print(hashMultTable)"
   ]
  },
  {
   "cell_type": "code",
   "execution_count": 10,
   "metadata": {},
   "outputs": [
    {
     "data": {
      "text/plain": [
       "'72'"
      ]
     },
     "execution_count": 10,
     "metadata": {},
     "output_type": "execute_result"
    }
   ],
   "source": [
    "hashMultTable['9']['8']"
   ]
  },
  {
   "cell_type": "code",
   "execution_count": 13,
   "metadata": {},
   "outputs": [],
   "source": [
    "hashAddTable = {}\n",
    "for x in range(10):\n",
    "  hashAddTable[str(x)] = {}\n",
    "  for y in range(10):\n",
    "      hashAddTable[str(x)][str(y)] = str(x + y)"
   ]
  },
  {
   "cell_type": "code",
   "execution_count": 16,
   "metadata": {},
   "outputs": [
    {
     "data": {
      "text/plain": [
       "'11'"
      ]
     },
     "execution_count": 16,
     "metadata": {},
     "output_type": "execute_result"
    }
   ],
   "source": [
    "hashAddTable['5']['6']"
   ]
  }
 ],
 "metadata": {
  "kernelspec": {
   "display_name": "Python 3",
   "language": "python",
   "name": "python3"
  },
  "language_info": {
   "codemirror_mode": {
    "name": "ipython",
    "version": 3
   },
   "file_extension": ".py",
   "mimetype": "text/x-python",
   "name": "python",
   "nbconvert_exporter": "python",
   "pygments_lexer": "ipython3",
   "version": "3.7.4"
  }
 },
 "nbformat": 4,
 "nbformat_minor": 2
}
